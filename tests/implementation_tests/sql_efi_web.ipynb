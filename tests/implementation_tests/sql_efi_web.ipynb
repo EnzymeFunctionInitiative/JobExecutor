{
 "cells": [
  {
   "cell_type": "code",
   "execution_count": null,
   "id": "b8c0edf0-77d3-4c45-8ca2-e91beca9d5b9",
   "metadata": {},
   "outputs": [],
   "source": [
    "!rm efi_web.sqlite"
   ]
  },
  {
   "cell_type": "code",
   "execution_count": null,
   "id": "483a8bde-6146-401c-96c5-bc39aa906be5",
   "metadata": {},
   "outputs": [],
   "source": [
    "%run ../create_fake_efi_web_db.py ../../templates/jupyter_notebook_sqlite_efi_web.config"
   ]
  },
  {
   "cell_type": "code",
   "execution_count": null,
   "id": "a732226e-5846-4a46-a97f-e9f0ad27ba5e",
   "metadata": {},
   "outputs": [],
   "source": [
    "from constants import Status\n",
    "from configClasses.baseConfig import BaseConfig\n",
    "from taskOperator import Operator\n",
    "from dataHandler import DataHandler"
   ]
  },
  {
   "cell_type": "markdown",
   "id": "b4955853-4bfd-4e6a-932a-82f654e6210c",
   "metadata": {},
   "source": [
    "# Configuration Handling\n",
    "Read in a config file and explore the config object's attributes and methods to obtain parameters. "
   ]
  },
  {
   "cell_type": "code",
   "execution_count": null,
   "id": "eef9b8ac-5011-4e2c-ac33-c5adb9a6d5f5",
   "metadata": {},
   "outputs": [],
   "source": [
    "config = BaseConfig.read_ini_config(\"../../templates/jupyter_notebook_sqlite_efi_web.config\")"
   ]
  },
  {
   "cell_type": "code",
   "execution_count": null,
   "id": "43b51598-4e74-4088-bfa0-2437c4bbcc77",
   "metadata": {},
   "outputs": [],
   "source": [
    "# print the contents of the config object\n",
    "print(config.__dict__)"
   ]
  },
  {
   "cell_type": "code",
   "execution_count": null,
   "id": "221ae411-bb00-41bd-a0c4-61e3c38e25e5",
   "metadata": {},
   "outputs": [],
   "source": [
    "# grab the attribute config.jobdb_dict, equivalent to a section in the INI config file\n",
    "print(config.get_attribute(\"jobdb_dict\"))\n",
    "# attempt to grab the attribute config.hello but it doesn't exist\n",
    "print(config.get_attribute(\"hello\",\"Nope doesn't exist\"))\n",
    "\n",
    "# grab a parameter from the config.jobdb_dict attribute \n",
    "print(config.get_parameter(\"jobdb_dict\", \"db_name\", \"Nope doesn't exist\"))"
   ]
  },
  {
   "cell_type": "markdown",
   "id": "4c0e4764-6b08-4a2e-85fa-062cfb945d23",
   "metadata": {},
   "source": [
    "# Prepare the task operator object\n",
    "Using the \"dummy\" mode, initiate the task operator object which calls the specific strategies used to perform each task. If the input mode is changed, different strategies will be assigned to the task_operator object. "
   ]
  },
  {
   "cell_type": "code",
   "execution_count": null,
   "id": "e2558074-f2e8-42a5-8a5a-bde94a0c84ce",
   "metadata": {},
   "outputs": [],
   "source": [
    "task_operator = Operator(config)"
   ]
  },
  {
   "cell_type": "code",
   "execution_count": null,
   "id": "9946dde0-8e50-4505-8504-cb9045c25038",
   "metadata": {},
   "outputs": [],
   "source": [
    "print(task_operator.__dict__)"
   ]
  },
  {
   "cell_type": "markdown",
   "id": "f3b5b530-d8cc-4491-8d32-39985fb07bb0",
   "metadata": {},
   "source": [
    "# Prepare the Data Handler object\n",
    "This is usually done within a context management line (via \"with DataHandler(mode, config) as data_handler:\") but we are demonstrating the object here so won't use that functionality. "
   ]
  },
  {
   "cell_type": "code",
   "execution_count": null,
   "id": "a2dfe4c5-758c-4e73-8092-efefbb6b2815",
   "metadata": {},
   "outputs": [],
   "source": [
    "data_handler = DataHandler(config)"
   ]
  },
  {
   "cell_type": "code",
   "execution_count": null,
   "id": "1a5efe63-14a9-4658-b653-8d5f6c8e1640",
   "metadata": {},
   "outputs": [],
   "source": [
    "print(data_handler.__dict__)\n",
    "print(data_handler._strategy.session) # no session connection has started so no data to show"
   ]
  },
  {
   "cell_type": "code",
   "execution_count": null,
   "id": "a0cb1528-f68a-48b2-8c2d-875a3b6d7ec7",
   "metadata": {},
   "outputs": [],
   "source": [
    "# the __enter__() method is used to connect to the SQL DB and prepare it to be analyzed; for example looped over and printed\n",
    "data_handler.__enter__()"
   ]
  },
  {
   "cell_type": "code",
   "execution_count": null,
   "id": "c795ec7a-dd8a-4f34-984c-cb198d0dcf20",
   "metadata": {},
   "outputs": [],
   "source": [
    "# run the get_jobs() method to get an iterator containing the jobs that match the Status\n",
    "jobs = data_handler.get_jobs(Status.INCOMPLETE)\n",
    "for job in jobs:\n",
    "    print(job.id, job.status, job.__class__.__name__)"
   ]
  },
  {
   "cell_type": "code",
   "execution_count": null,
   "id": "f58618e9-846b-479a-996a-c30adc586334",
   "metadata": {},
   "outputs": [],
   "source": [
    "jobs = data_handler.get_jobs(Status.INCOMPLETE)\n",
    "separator = \"#\"*80+\"\\n\"\n",
    "for job in jobs:\n",
    "    print(separator,job)\n",
    "    retcode, updates = task_operator.execute(job, config)\n",
    "    data_handler.update_job(job, updates)\n"
   ]
  },
  {
   "cell_type": "code",
   "execution_count": null,
   "id": "a263b582",
   "metadata": {},
   "outputs": [],
   "source": [
    "# run the get_jobs() method to get an iterator containing the jobs that match the Status\n",
    "jobs = data_handler.get_jobs(Status.INCOMPLETE)\n",
    "for job in jobs:\n",
    "    print(job.id, job.status)"
   ]
  },
  {
   "cell_type": "code",
   "execution_count": null,
   "id": "1a88a5e2-32c5-4ecd-84cc-0b46a60ac605",
   "metadata": {},
   "outputs": [],
   "source": [
    "print(data_handler._strategy._Job, data_handler._strategy._Base)"
   ]
  },
  {
   "cell_type": "code",
   "execution_count": null,
   "id": "97ba7a35-5b99-42fe-8efc-b72f076a4fea",
   "metadata": {},
   "outputs": [],
   "source": [
    "job.get_parameters_dict()"
   ]
  },
  {
   "cell_type": "code",
   "execution_count": null,
   "id": "1d1a13d4-c337-4d77-a9cd-6db584e26d04",
   "metadata": {},
   "outputs": [],
   "source": [
    "job.get_updatable_attrs()"
   ]
  },
  {
   "cell_type": "code",
   "execution_count": null,
   "id": "2ff99220-bbc5-4e30-8575-423060042d28",
   "metadata": {},
   "outputs": [],
   "source": [
    "job.get_input_files()"
   ]
  },
  {
   "cell_type": "code",
   "execution_count": null,
   "id": "3f17d1b2-87cd-4b79-a057-1b9ef0182630",
   "metadata": {},
   "outputs": [],
   "source": [
    "job.get_output_files()"
   ]
  },
  {
   "cell_type": "code",
   "execution_count": null,
   "id": "9c271f58-b4b6-4f1c-b093-27d0c6dc0107",
   "metadata": {},
   "outputs": [],
   "source": []
  }
 ],
 "metadata": {
  "kernelspec": {
   "display_name": "Python 3 (ipykernel)",
   "language": "python",
   "name": "python3"
  },
  "language_info": {
   "codemirror_mode": {
    "name": "ipython",
    "version": 3
   },
   "file_extension": ".py",
   "mimetype": "text/x-python",
   "name": "python",
   "nbconvert_exporter": "python",
   "pygments_lexer": "ipython3",
   "version": "3.10.17"
  }
 },
 "nbformat": 4,
 "nbformat_minor": 5
}
