{
 "cells": [
  {
   "cell_type": "code",
   "execution_count": null,
   "id": "a732226e-5846-4a46-a97f-e9f0ad27ba5e",
   "metadata": {},
   "outputs": [],
   "source": [
    "from constants import Status\n",
    "from configClasses.baseConfig import BaseConfig\n",
    "from taskOperator import Operator\n",
    "from dataHandler import DataHandler"
   ]
  },
  {
   "cell_type": "markdown",
   "id": "b4955853-4bfd-4e6a-932a-82f654e6210c",
   "metadata": {},
   "source": [
    "# Configuration Handling\n",
    "Read in a config file and explore the config object's attributes and methods to obtain parameters. "
   ]
  },
  {
   "cell_type": "code",
   "execution_count": null,
   "id": "eef9b8ac-5011-4e2c-ac33-c5adb9a6d5f5",
   "metadata": {},
   "outputs": [],
   "source": [
    "config = BaseConfig.read_ini_config(\"../../templates/dummy.config\")"
   ]
  },
  {
   "cell_type": "code",
   "execution_count": null,
   "id": "43b51598-4e74-4088-bfa0-2437c4bbcc77",
   "metadata": {},
   "outputs": [],
   "source": [
    "# print the contents of the config object\n",
    "print(config.__dict__)"
   ]
  },
  {
   "cell_type": "code",
   "execution_count": null,
   "id": "221ae411-bb00-41bd-a0c4-61e3c38e25e5",
   "metadata": {},
   "outputs": [],
   "source": [
    "# grab the attribute config.jobdb_dict, equivalent to a section in the INI config file\n",
    "print(config.get_attribute(\"jobdb_dict\"))\n",
    "# attempt to grab the attribute config.hello but it doesn't exist\n",
    "print(config.get_attribute(\"hello\",\"Nope doesn't exist\"))\n",
    "\n",
    "# grab a parameter from the config.jobdb_dict attribute \n",
    "print(config.get_parameter(\"jobdb_dict\", \"db_name\", \"Nope doesn't exist\"))"
   ]
  },
  {
   "cell_type": "markdown",
   "id": "4c0e4764-6b08-4a2e-85fa-062cfb945d23",
   "metadata": {},
   "source": [
    "# Prepare the task operator object\n",
    "Using the \"dummy\" mode, initiate the task operator object which calls the specific strategies used to perform each task. If the input mode is changed, different strategies will be assigned to the task_operator object. "
   ]
  },
  {
   "cell_type": "code",
   "execution_count": null,
   "id": "e2558074-f2e8-42a5-8a5a-bde94a0c84ce",
   "metadata": {},
   "outputs": [],
   "source": [
    "task_operator = Operator(\"dummy\")"
   ]
  },
  {
   "cell_type": "code",
   "execution_count": null,
   "id": "9946dde0-8e50-4505-8504-cb9045c25038",
   "metadata": {},
   "outputs": [],
   "source": [
    "print(task_operator.__dict__)"
   ]
  },
  {
   "cell_type": "markdown",
   "id": "f3b5b530-d8cc-4491-8d32-39985fb07bb0",
   "metadata": {},
   "source": [
    "# Prepare the Data Handler object\n",
    "This is usually done within a context management line (via \"with DataHandler(mode, config) as data_handler:\") but we are demonstrating the object here so won't use that functionality. "
   ]
  },
  {
   "cell_type": "code",
   "execution_count": null,
   "id": "a2dfe4c5-758c-4e73-8092-efefbb6b2815",
   "metadata": {},
   "outputs": [],
   "source": [
    "data_handler = DataHandler(\"dummy\", config)"
   ]
  },
  {
   "cell_type": "code",
   "execution_count": null,
   "id": "1a5efe63-14a9-4658-b653-8d5f6c8e1640",
   "metadata": {},
   "outputs": [],
   "source": [
    "print(data_handler.__dict__)\n",
    "print(data_handler._strategy.data) # no data has been loaded so will return None"
   ]
  },
  {
   "cell_type": "code",
   "execution_count": null,
   "id": "a0cb1528-f68a-48b2-8c2d-875a3b6d7ec7",
   "metadata": {},
   "outputs": [],
   "source": [
    "# the __enter__() method is used to load data into the object and prepare it to be analyzed; for example looped over and printed\n",
    "data_handler.__enter__()\n",
    "for key, value in data_handler._strategy.data.items():\n",
    "    print(key, value)"
   ]
  },
  {
   "cell_type": "code",
   "execution_count": null,
   "id": "c795ec7a-dd8a-4f34-984c-cb198d0dcf20",
   "metadata": {},
   "outputs": [],
   "source": [
    "# run the get_jobs() method to get an iterator containing the jobs that match the Status\n",
    "jobs = data_handler.get_jobs(Status.INCOMPLETE)\n",
    "for job in jobs:\n",
    "    print(job.job_id, job.status)"
   ]
  },
  {
   "cell_type": "code",
   "execution_count": null,
   "id": "f58618e9-846b-479a-996a-c30adc586334",
   "metadata": {},
   "outputs": [],
   "source": [
    "jobs = data_handler.get_jobs(Status.INCOMPLETE)\n",
    "separator = \"#\"*80+\"\\n\"\n",
    "for job in jobs:\n",
    "    print(separator,job)\n",
    "    retcode, updates = task_operator.execute(job, config)\n",
    "    data_handler.update_job(job, updates)\n",
    "    print(data_handler._strategy.data[job.job_id])\n"
   ]
  },
  {
   "cell_type": "code",
   "execution_count": null,
   "id": "6fd11a4d-a654-4c92-bf5e-2352790ea738",
   "metadata": {},
   "outputs": [],
   "source": [
    "for key, value in data_handler._strategy.data.items():\n",
    "    print(key, value['status'])"
   ]
  },
  {
   "cell_type": "markdown",
   "id": "6ad3eb3f-b079-4dad-b27d-27605c1991ab",
   "metadata": {},
   "source": [
    "### Rerun cells 22 and 23 to see how `job.status` changes over multiple iterations of the task Operator executing some function on the job. "
   ]
  }
 ],
 "metadata": {
  "kernelspec": {
   "display_name": "Python 3 (ipykernel)",
   "language": "python",
   "name": "python3"
  },
  "language_info": {
   "codemirror_mode": {
    "name": "ipython",
    "version": 3
   },
   "file_extension": ".py",
   "mimetype": "text/x-python",
   "name": "python",
   "nbconvert_exporter": "python",
   "pygments_lexer": "ipython3",
   "version": "3.10.17"
  }
 },
 "nbformat": 4,
 "nbformat_minor": 5
}
